{
 "cells": [
  {
   "cell_type": "markdown",
   "id": "34ba05b7",
   "metadata": {},
   "source": [
    "# IEooc_Methods5_Exercise4a: Calculating income specific footprints for Germany\n",
    "\n",
    "\n",
    "**Prerequisites**\n",
    "- Basic knowledge of Input-Output Analysis (completed part Methodology 5: Input-output analysis of the IEooc)\n",
    "- Basic knowledge on Python (see here for help https://simschul.github.io/python_basics/python_cheatsheet.html)\n",
    "- Basic knowledge (and an installation) of the Pymrio python package (read https://pymrio.readthedocs.io/en/latest/intro.html#)\n",
    "- EXIOBASE for the year 2013 in the product by product variant (pxp) (you can find it here: https://zenodo.org/records/5589597 , download the file “IOT_2013_pxp.zip” and save it to your computer)"
   ]
  },
  {
   "cell_type": "markdown",
   "id": "2a30fa5f",
   "metadata": {},
   "source": [
    "## Import libraries"
   ]
  },
  {
   "cell_type": "code",
   "execution_count": 2,
   "id": "dccc17e1",
   "metadata": {},
   "outputs": [],
   "source": [
    "# import libraries\n",
    "import pandas as pd\n",
    "import numpy as np\n",
    "import pymrio\n",
    "import os\n",
    "from plotnine import *\n",
    "# TODO: add other libraries you need (e.g. matplotlib)\n"
   ]
  },
  {
   "cell_type": "markdown",
   "id": "522241f1",
   "metadata": {},
   "source": [
    "## Specify paths\n",
    "\n",
    "It's good practice to specify all paths at the beginning of your script so that other people who want to run your script directly know which lines to adapt to run the script in their own computer. "
   ]
  },
  {
   "cell_type": "code",
   "execution_count": 11,
   "id": "a2c4a7da",
   "metadata": {
    "scrolled": true
   },
   "outputs": [],
   "source": [
    "path2final_demand = #TODO: add path to the folder where you have stored the 'Final_demand_by_income_avg.xlsx' file\n",
    "path2exiobase = #TODO: add path to folder where you have stored the exiobase .zip file from Zenodo "
   ]
  },
  {
   "cell_type": "code",
   "execution_count": null,
   "id": "b5425266",
   "metadata": {},
   "outputs": [],
   "source": [
    "# Define the path to the Excel file containing final demand by income data\n",
    "path2file = os.path.join(path2final_demand, 'Final_demand_by_income_avg.xlsx')\n",
    "\n",
    "# Read the Excel file into a DataFrame, setting the first two columns as the index\n",
    "Y_by_income = #TODO \n",
    "\n",
    "# Set the name of the columns to 'income_group'\n",
    "#TODO\n",
    "\n",
    "# Display the DataFrame\n",
    "Y_by_income"
   ]
  },
  {
   "cell_type": "markdown",
   "id": "5c59b1f9",
   "metadata": {},
   "source": [
    "## Step 4: Import Exiobase"
   ]
  },
  {
   "cell_type": "code",
   "execution_count": 13,
   "id": "dea7b214",
   "metadata": {},
   "outputs": [],
   "source": [
    "# Parse the Exiobase3 data from the specified path using the pymrio library\n",
    "exio = #TODO "
   ]
  },
  {
   "cell_type": "markdown",
   "id": "71d71d31",
   "metadata": {},
   "source": [
    "Now, let's calculate all missing parts from our MRIO system (L, S, ...):"
   ]
  },
  {
   "cell_type": "code",
   "execution_count": null,
   "id": "8caa48f0",
   "metadata": {},
   "outputs": [],
   "source": [
    "#TODO: calculate missing parts from MRIO system using pymrio functions"
   ]
  },
  {
   "cell_type": "markdown",
   "id": "9ea0600f",
   "metadata": {},
   "source": [
    "## Step 5: Calculate total footprints by income\n",
    "\n",
    "$ Footprint = S * L * Y $"
   ]
  },
  {
   "cell_type": "markdown",
   "id": "bdd46924",
   "metadata": {},
   "source": [
    "Check dimensions of the three matrices first: "
   ]
  },
  {
   "cell_type": "code",
   "execution_count": null,
   "id": "71616027",
   "metadata": {},
   "outputs": [],
   "source": [
    "print(\"S: \", exio.impacts.S.shape)\n",
    "print(\"L: \", exio.L.shape)\n",
    "print(\"Y: \", Y_by_income.shape)\n"
   ]
  },
  {
   "cell_type": "markdown",
   "id": "14ed90f5",
   "metadata": {},
   "source": [
    "Do the matrix multiplications: "
   ]
  },
  {
   "cell_type": "code",
   "execution_count": 16,
   "id": "8d6ca62a",
   "metadata": {},
   "outputs": [],
   "source": [
    "D_by_income = #TODO"
   ]
  },
  {
   "cell_type": "code",
   "execution_count": null,
   "id": "f7f382f8",
   "metadata": {},
   "outputs": [],
   "source": [
    "D_by_income"
   ]
  },
  {
   "cell_type": "markdown",
   "id": "c098be6b",
   "metadata": {},
   "source": [
    "### a) Extract CO2, CH4 and N2O footprints in GHGeq"
   ]
  },
  {
   "cell_type": "markdown",
   "id": "7de7877d",
   "metadata": {},
   "source": [
    "We can extract the specific rows from `D_by_income` using .loc and specifing the entire name of the impact. E.g. for CO2 this would be:"
   ]
  },
  {
   "cell_type": "code",
   "execution_count": null,
   "id": "9d361c64",
   "metadata": {},
   "outputs": [],
   "source": [
    "D_by_income.loc['GHG emissions (GWP100) | Problem oriented approach: baseline (CML, 2001) | GWP100 (IPCC, 2007)']"
   ]
  },
  {
   "cell_type": "markdown",
   "id": "6ad5c2a8",
   "metadata": {},
   "source": [
    "If we don't want to always write the long names of the impacts we can also search for keywords using the following code:"
   ]
  },
  {
   "cell_type": "code",
   "execution_count": null,
   "id": "16549698",
   "metadata": {},
   "outputs": [],
   "source": [
    "# Searching for all impacts that contain CO2EQ\n",
    "D_by_income.loc[D_by_income.index.str.contains('CO2EQ')]"
   ]
  },
  {
   "cell_type": "markdown",
   "id": "4071fe69",
   "metadata": {},
   "source": [
    "Or we search using regular expressions:"
   ]
  },
  {
   "cell_type": "code",
   "execution_count": null,
   "id": "d4a26977",
   "metadata": {},
   "outputs": [],
   "source": [
    "# searching for all impacts that contain CH4 and CO2EQ\n",
    "D_by_income.loc[D_by_income.index.str.contains(r'(?=.*CH4)(?=.*CO2EQ)')]"
   ]
  },
  {
   "cell_type": "markdown",
   "id": "0ad1af09",
   "metadata": {},
   "source": [
    "We extract the data we need to plot from `D_by_income` and store it as new variable `data2plot`. Then you need to prepare the data so that you can pass it to your favorite plot library (this step is very much dependend on which library you use for plotting). "
   ]
  },
  {
   "cell_type": "code",
   "execution_count": 21,
   "id": "fa467062",
   "metadata": {
    "scrolled": true
   },
   "outputs": [],
   "source": [
    "# Extract the CO2, CH4 and N2O footprints measured in CO2 equivalents\n",
    "data2plot = #TODO\n",
    "\n",
    "# Prepare the data for plotting\n",
    "#TODO\n",
    "\n"
   ]
  },
  {
   "cell_type": "markdown",
   "id": "8d2d0ee1",
   "metadata": {},
   "source": [
    "### b) Visualize income specific footprints"
   ]
  },
  {
   "cell_type": "markdown",
   "id": "eb9af22c",
   "metadata": {},
   "source": [
    "Plot the income specific footprints. For inspiration of you can check out different plot types here: https://www.python-graph-gallery.com/"
   ]
  },
  {
   "cell_type": "code",
   "execution_count": null,
   "id": "52fbdf63",
   "metadata": {},
   "outputs": [],
   "source": [
    "#TODO: plot the data"
   ]
  },
  {
   "cell_type": "markdown",
   "id": "21e660eb",
   "metadata": {},
   "source": [
    "## Step 7: Break down emissions by final demanded product"
   ]
  },
  {
   "cell_type": "markdown",
   "id": "563f10b0",
   "metadata": {},
   "source": [
    "To break down emissions by final product we need to calculate $D = S*L*\\hat{Y}$. However, in our case $Y$ is already a matrix, thus we cannot diagnoalise it as we did when $Y$ when was just a vector. \n",
    "One option we have is to calculate the broken down emissions **seperatedely** for each income group. Thus, we can extract the respective column from Y for each income group, convert it to a vector and then diagnolise it. This is best done within a for loop: \n",
    "\n",
    "(Note: These calculation might take some time. To see the progress you can print the income group for each iteration.)"
   ]
  },
  {
   "cell_type": "code",
   "execution_count": null,
   "id": "3a3636df",
   "metadata": {},
   "outputs": [],
   "source": [
    "# Create empty list to store results\n",
    "\n",
    "D_by_income_and_fd_list = #TODO: create an empty list\n",
    "\n",
    "for income_group in Y_by_income.columns: \n",
    "    #TODO: print progress (as this takes a while to run): \n",
    "    \n",
    "    # extract the respective column of final demand and convert it to a numpy array:\n",
    "    y_vector =  #TODO\n",
    "    \n",
    "    # diagnoalise this vector and convert to pd DataFrame:\n",
    "    Y_diag = #TODO\n",
    "    \n",
    "    #TODO: calculate footprints and append to result list\n",
    "    \n",
    "\n",
    "    "
   ]
  },
  {
   "cell_type": "markdown",
   "id": "70c64d32",
   "metadata": {},
   "source": [
    "Now we can bind the list elements together to one large dataframe using `pd.concat`, again specifing the keys and axis (axis=1 means column-wise): "
   ]
  },
  {
   "cell_type": "code",
   "execution_count": null,
   "id": "b557abf2",
   "metadata": {},
   "outputs": [],
   "source": [
    "D_by_income_and_fd = #TODO\n",
    "D_by_income_and_fd"
   ]
  },
  {
   "cell_type": "markdown",
   "id": "02074073",
   "metadata": {},
   "source": [
    "`D_by_income_and_fd` has now three dimensional columns for the dimensions: income group, sector and country. The first column of this dataframe, for example, contains all emissions related to the final consumption of Austrian Paddy Rice by the average income group (Group00).  "
   ]
  },
  {
   "cell_type": "markdown",
   "id": "819e07a8",
   "metadata": {},
   "source": [
    "To further analyse these results we convert this dataframe again from the wide to the long format. If you have never heard about these two data formats, have a look here: https://towardsdatascience.com/reshaping-a-pandas-dataframe-long-to-wide-and-vice-versa-517c7f0995ad \n"
   ]
  },
  {
   "cell_type": "code",
   "execution_count": null,
   "id": "c797d13b",
   "metadata": {},
   "outputs": [],
   "source": [
    "df = #TODO\n",
    "df"
   ]
  },
  {
   "cell_type": "markdown",
   "id": "a189d6ed",
   "metadata": {},
   "source": [
    "We exclude all zero values to save some memory: "
   ]
  },
  {
   "cell_type": "code",
   "execution_count": 31,
   "id": "0338cfd7",
   "metadata": {},
   "outputs": [],
   "source": [
    "df = #TODO"
   ]
  },
  {
   "cell_type": "markdown",
   "id": "f228a722",
   "metadata": {},
   "source": [
    "It's often more convenient to have the variables (e.g. income group, impacts type, sector, region) as **indices** instead of individual columns, whereas the values (column: `value`) are of course better placed as individual column. To put the variables as MultiIndex we use the `set_index` method: "
   ]
  },
  {
   "cell_type": "code",
   "execution_count": 32,
   "id": "fdbb7de3",
   "metadata": {},
   "outputs": [],
   "source": [
    "df.set_index(keys=['impact', \"income_group\", \"region\", \"sector\"], inplace=True)"
   ]
  },
  {
   "cell_type": "markdown",
   "id": "9351c3fa",
   "metadata": {},
   "source": [
    "Now, we select CO2 emissions using the `.loc` method. NOte: we can only use .loc because we set the variables as Index beforehand.  "
   ]
  },
  {
   "cell_type": "code",
   "execution_count": 33,
   "id": "34aae23d",
   "metadata": {},
   "outputs": [],
   "source": [
    "df_co2 = df.loc['Carbon dioxide (CO2) CO2EQ IPCC categories 1 to 4 and 6 to 7 (excl land use, land use change and forestry)']"
   ]
  },
  {
   "cell_type": "markdown",
   "id": "fb0fc641",
   "metadata": {},
   "source": [
    "Next, we want to know for each income group for how much CO2 emissions each finally demanded product is responsible. Thus, we sum over income groups and sectors: "
   ]
  },
  {
   "cell_type": "code",
   "execution_count": null,
   "id": "b4259e35",
   "metadata": {},
   "outputs": [],
   "source": [
    "df_co2_by_fd = #TODO\n",
    "df_co2_by_fd"
   ]
  },
  {
   "cell_type": "markdown",
   "id": "bf43aee2",
   "metadata": {},
   "source": [
    "Then, we can calcualte the shares of each sector of total emissions by income group (that's why we first group by income group): "
   ]
  },
  {
   "cell_type": "code",
   "execution_count": null,
   "id": "c89a8967",
   "metadata": {},
   "outputs": [],
   "source": [
    "df_co2_by_fd['share'] =  #TODO\n",
    "df_co2_by_fd"
   ]
  },
  {
   "cell_type": "markdown",
   "id": "563c02b8",
   "metadata": {},
   "source": [
    "Since we are interested in the 3 largest contributors by income group we rank the emissions (again first grouped by income group) using the `rank` method, and assigning the ranks as a column. \n",
    "\n",
    "Then we can filter the dataframe by ranks smaller than 4: "
   ]
  },
  {
   "cell_type": "code",
   "execution_count": null,
   "id": "2db7753c",
   "metadata": {},
   "outputs": [],
   "source": [
    "df_co2_by_fd['rank'] = #TODO\n",
    "df_co2_by_fd[df_co2_by_fd['rank'] < 4]"
   ]
  },
  {
   "cell_type": "markdown",
   "id": "2e4f81de",
   "metadata": {},
   "source": [
    "#TODO: What are the top 3 products (summed over all regions) that contribute most  for each income group? "
   ]
  }
 ],
 "metadata": {
  "kernelspec": {
   "display_name": "Python (IEooc_env)",
   "language": "python",
   "name": "ieooc_env"
  },
  "language_info": {
   "codemirror_mode": {
    "name": "ipython",
    "version": 3
   },
   "file_extension": ".py",
   "mimetype": "text/x-python",
   "name": "python",
   "nbconvert_exporter": "python",
   "pygments_lexer": "ipython3",
   "version": "3.8.10"
  }
 },
 "nbformat": 4,
 "nbformat_minor": 5
}
